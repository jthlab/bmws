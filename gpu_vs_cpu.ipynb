{
 "cells": [
  {
   "cell_type": "code",
   "execution_count": 1,
   "metadata": {},
   "outputs": [
    {
     "data": {
      "application/javascript": [
       "\n",
       "            setTimeout(function() {\n",
       "                var nbb_cell_id = 1;\n",
       "                var nbb_unformatted_code = \"%load_ext nb_black\\n%matplotlib inline\\nfrom IPython.display import set_matplotlib_formats\\nimport matplotlib.pyplot as plt\\nimport numpy as np\\nimport logging\\nimport jax\\n\\n\\nlogging.getLogger().setLevel(logging.INFO)\\nlogging.getLogger(\\\"absl\\\").setLevel(logging.DEBUG)\\n\\nset_matplotlib_formats(\\\"svg\\\")\";\n",
       "                var nbb_formatted_code = \"%load_ext nb_black\\n%matplotlib inline\\nfrom IPython.display import set_matplotlib_formats\\nimport matplotlib.pyplot as plt\\nimport numpy as np\\nimport logging\\nimport jax\\n\\n\\nlogging.getLogger().setLevel(logging.INFO)\\nlogging.getLogger(\\\"absl\\\").setLevel(logging.DEBUG)\\n\\nset_matplotlib_formats(\\\"svg\\\")\";\n",
       "                var nbb_cells = Jupyter.notebook.get_cells();\n",
       "                for (var i = 0; i < nbb_cells.length; ++i) {\n",
       "                    if (nbb_cells[i].input_prompt_number == nbb_cell_id) {\n",
       "                        if (nbb_cells[i].get_text() == nbb_unformatted_code) {\n",
       "                             nbb_cells[i].set_text(nbb_formatted_code);\n",
       "                        }\n",
       "                        break;\n",
       "                    }\n",
       "                }\n",
       "            }, 500);\n",
       "            "
      ],
      "text/plain": [
       "<IPython.core.display.Javascript object>"
      ]
     },
     "metadata": {},
     "output_type": "display_data"
    }
   ],
   "source": [
    "%load_ext nb_black\n",
    "%matplotlib inline\n",
    "from IPython.display import set_matplotlib_formats\n",
    "import matplotlib.pyplot as plt\n",
    "import numpy as np\n",
    "import logging\n",
    "import jax\n",
    "\n",
    "\n",
    "logging.getLogger().setLevel(logging.INFO)\n",
    "logging.getLogger(\"absl\").setLevel(logging.DEBUG)\n",
    "\n",
    "set_matplotlib_formats(\"svg\")\n"
   ]
  },
  {
   "cell_type": "code",
   "execution_count": 2,
   "metadata": {},
   "outputs": [
    {
     "name": "stderr",
     "output_type": "stream",
     "text": [
      "DEBUG:absl:Initializing backend 'interpreter'\n",
      "DEBUG:absl:Backend 'interpreter' initialized\n",
      "DEBUG:absl:Initializing backend 'cpu'\n",
      "DEBUG:absl:Backend 'cpu' initialized\n",
      "DEBUG:absl:Initializing backend 'tpu_driver'\n",
      "INFO:absl:Starting the local TPU driver.\n",
      "INFO:absl:Unable to initialize backend 'tpu_driver': Not found: Unable to find driver in registry given worker: local://\n",
      "DEBUG:absl:Initializing backend 'gpu'\n",
      "DEBUG:absl:Backend 'gpu' initialized\n",
      "DEBUG:absl:Initializing backend 'tpu'\n",
      "INFO:absl:Unable to initialize backend 'tpu': Invalid argument: TpuPlatform is not available.\n"
     ]
    },
    {
     "data": {
      "application/javascript": [
       "\n",
       "            setTimeout(function() {\n",
       "                var nbb_cell_id = 2;\n",
       "                var nbb_unformatted_code = \"from math import log, exp\\nfrom sim import sim_and_fit, sim_wf\\nfrom common import Observation\\nfrom plotting import plot_summary\\nrng = np.random.default_rng(2)\";\n",
       "                var nbb_formatted_code = \"from math import log, exp\\nfrom sim import sim_and_fit, sim_wf\\nfrom common import Observation\\nfrom plotting import plot_summary\\n\\nrng = np.random.default_rng(2)\";\n",
       "                var nbb_cells = Jupyter.notebook.get_cells();\n",
       "                for (var i = 0; i < nbb_cells.length; ++i) {\n",
       "                    if (nbb_cells[i].input_prompt_number == nbb_cell_id) {\n",
       "                        if (nbb_cells[i].get_text() == nbb_unformatted_code) {\n",
       "                             nbb_cells[i].set_text(nbb_formatted_code);\n",
       "                        }\n",
       "                        break;\n",
       "                    }\n",
       "                }\n",
       "            }, 500);\n",
       "            "
      ],
      "text/plain": [
       "<IPython.core.display.Javascript object>"
      ]
     },
     "metadata": {},
     "output_type": "display_data"
    }
   ],
   "source": [
    "from math import log, exp\n",
    "from sim import sim_and_fit, sim_wf\n",
    "from common import Observation\n",
    "from plotting import plot_summary\n",
    "rng = np.random.default_rng(2)\n"
   ]
  },
  {
   "cell_type": "code",
   "execution_count": 10,
   "metadata": {},
   "outputs": [
    {
     "data": {
      "application/javascript": [
       "\n",
       "            setTimeout(function() {\n",
       "                var nbb_cell_id = 10;\n",
       "                var nbb_unformatted_code = \"from jax import vmap, jit, value_and_grad\\nfrom betamix import BetaMixture\\nfrom estimate import jittable_estimate\\n\\nprior = BetaMixture.uniform(100)\\nbatch_estimate = vmap(jittable_estimate, (0,) * 2 + (None,) * 4)\";\n",
       "                var nbb_formatted_code = \"from jax import vmap, jit, value_and_grad\\nfrom betamix import BetaMixture\\nfrom estimate import jittable_estimate\\n\\nprior = BetaMixture.uniform(100)\\nbatch_estimate = vmap(jittable_estimate, (0,) * 2 + (None,) * 4)\";\n",
       "                var nbb_cells = Jupyter.notebook.get_cells();\n",
       "                for (var i = 0; i < nbb_cells.length; ++i) {\n",
       "                    if (nbb_cells[i].input_prompt_number == nbb_cell_id) {\n",
       "                        if (nbb_cells[i].get_text() == nbb_unformatted_code) {\n",
       "                             nbb_cells[i].set_text(nbb_formatted_code);\n",
       "                        }\n",
       "                        break;\n",
       "                    }\n",
       "                }\n",
       "            }, 500);\n",
       "            "
      ],
      "text/plain": [
       "<IPython.core.display.Javascript object>"
      ]
     },
     "metadata": {},
     "output_type": "display_data"
    }
   ],
   "source": [
    "from jax import vmap, jit, value_and_grad\n",
    "from betamix import BetaMixture\n",
    "from estimate import jittable_estimate\n",
    "\n",
    "prior = BetaMixture.uniform(100)\n",
    "batch_estimate = vmap(jittable_estimate, (0,) * 2 + (None,) * 4)"
   ]
  },
  {
   "cell_type": "code",
   "execution_count": 11,
   "metadata": {},
   "outputs": [
    {
     "data": {
      "application/javascript": [
       "\n",
       "            setTimeout(function() {\n",
       "                var nbb_cell_id = 11;\n",
       "                var nbb_unformatted_code = \"model = {\\\"s\\\": [0.01] * 100, \\\"h\\\": [0.5] * 100, \\\"f0\\\": 0.1}\\nres = sim_and_fit(model, seed=1, lam=1e2)\\nNe = res[\\\"Ne\\\"]\\nobs = res[\\\"obs\\\"]\";\n",
       "                var nbb_formatted_code = \"model = {\\\"s\\\": [0.01] * 100, \\\"h\\\": [0.5] * 100, \\\"f0\\\": 0.1}\\nres = sim_and_fit(model, seed=1, lam=1e2)\\nNe = res[\\\"Ne\\\"]\\nobs = res[\\\"obs\\\"]\";\n",
       "                var nbb_cells = Jupyter.notebook.get_cells();\n",
       "                for (var i = 0; i < nbb_cells.length; ++i) {\n",
       "                    if (nbb_cells[i].input_prompt_number == nbb_cell_id) {\n",
       "                        if (nbb_cells[i].get_text() == nbb_unformatted_code) {\n",
       "                             nbb_cells[i].set_text(nbb_formatted_code);\n",
       "                        }\n",
       "                        break;\n",
       "                    }\n",
       "                }\n",
       "            }, 500);\n",
       "            "
      ],
      "text/plain": [
       "<IPython.core.display.Javascript object>"
      ]
     },
     "metadata": {},
     "output_type": "display_data"
    }
   ],
   "source": [
    "model = {\"s\": [0.01] * 100, \"h\": [0.5] * 100, \"f0\": 0.1}\n",
    "res = sim_and_fit(model, seed=1, lam=1e2)\n",
    "Ne = res[\"Ne\"]\n",
    "obs = res[\"obs\"]"
   ]
  },
  {
   "cell_type": "code",
   "execution_count": 12,
   "metadata": {},
   "outputs": [
    {
     "name": "stdout",
     "output_type": "stream",
     "text": [
      "b=1, cpu mode, run=0\n"
     ]
    },
    {
     "name": "stderr",
     "output_type": "stream",
     "text": [
      "DEBUG:absl:Compiling jittable_estimate (140327327096192) for args (ShapedArray(float64[1,101,2]), ShapedArray(float64[1,100]), ShapedArray(float64[], weak_type=True), ShapedArray(float64[100]), ShapedArray(float64[100]), ShapedArray(float64[100]), ShapedArray(float64[], weak_type=True)).\n"
     ]
    },
    {
     "name": "stdout",
     "output_type": "stream",
     "text": [
      "CPU times: user 11.3 s, sys: 27.2 ms, total: 11.3 s\n",
      "Wall time: 11.4 s\n",
      "b=1, cpu mode, run=1\n",
      "CPU times: user 1.18 s, sys: 6.25 ms, total: 1.19 s\n",
      "Wall time: 1.18 s\n",
      "b=1, gpu mode, run=0\n"
     ]
    },
    {
     "name": "stderr",
     "output_type": "stream",
     "text": [
      "DEBUG:absl:Compiling jittable_estimate (140327724471680) for args (ShapedArray(float64[1,101,2]), ShapedArray(float64[1,100]), ShapedArray(float64[], weak_type=True), ShapedArray(float64[100]), ShapedArray(float64[100]), ShapedArray(float64[100]), ShapedArray(float64[], weak_type=True)).\n"
     ]
    },
    {
     "name": "stdout",
     "output_type": "stream",
     "text": [
      "CPU times: user 11.6 s, sys: 252 ms, total: 11.9 s\n",
      "Wall time: 7.63 s\n",
      "b=1, gpu mode, run=1\n",
      "CPU times: user 3.88 s, sys: 176 ms, total: 4.05 s\n",
      "Wall time: 4.05 s\n",
      "b=10, cpu mode, run=0\n"
     ]
    },
    {
     "name": "stderr",
     "output_type": "stream",
     "text": [
      "DEBUG:absl:Compiling jittable_estimate (140326784064384) for args (ShapedArray(float64[10,101,2]), ShapedArray(float64[10,100]), ShapedArray(float64[], weak_type=True), ShapedArray(float64[100]), ShapedArray(float64[100]), ShapedArray(float64[100]), ShapedArray(float64[], weak_type=True)).\n"
     ]
    },
    {
     "name": "stdout",
     "output_type": "stream",
     "text": [
      "CPU times: user 55.3 s, sys: 339 ms, total: 55.6 s\n",
      "Wall time: 55.1 s\n",
      "b=10, cpu mode, run=1\n",
      "CPU times: user 13.2 s, sys: 189 ms, total: 13.4 s\n",
      "Wall time: 12.9 s\n",
      "b=10, gpu mode, run=0\n"
     ]
    },
    {
     "name": "stderr",
     "output_type": "stream",
     "text": [
      "DEBUG:absl:Compiling jittable_estimate (140327327166656) for args (ShapedArray(float64[10,101,2]), ShapedArray(float64[10,100]), ShapedArray(float64[], weak_type=True), ShapedArray(float64[100]), ShapedArray(float64[100]), ShapedArray(float64[100]), ShapedArray(float64[], weak_type=True)).\n"
     ]
    },
    {
     "name": "stdout",
     "output_type": "stream",
     "text": [
      "CPU times: user 15.6 s, sys: 1.8 s, total: 17.4 s\n",
      "Wall time: 13.3 s\n",
      "b=10, gpu mode, run=1\n",
      "CPU times: user 6.6 s, sys: 1.67 s, total: 8.27 s\n",
      "Wall time: 8.26 s\n",
      "b=100, cpu mode, run=0\n"
     ]
    },
    {
     "name": "stderr",
     "output_type": "stream",
     "text": [
      "DEBUG:absl:Compiling jittable_estimate (140326185929408) for args (ShapedArray(float64[100,101,2]), ShapedArray(float64[100,100]), ShapedArray(float64[], weak_type=True), ShapedArray(float64[100]), ShapedArray(float64[100]), ShapedArray(float64[100]), ShapedArray(float64[], weak_type=True)).\n"
     ]
    },
    {
     "name": "stdout",
     "output_type": "stream",
     "text": [
      "CPU times: user 2min 30s, sys: 4.1 s, total: 2min 34s\n",
      "Wall time: 2min 14s\n",
      "b=100, cpu mode, run=1\n",
      "CPU times: user 2min 17s, sys: 4.35 s, total: 2min 21s\n",
      "Wall time: 2min 1s\n",
      "b=100, gpu mode, run=0\n"
     ]
    },
    {
     "name": "stderr",
     "output_type": "stream",
     "text": [
      "DEBUG:absl:Compiling jittable_estimate (140326048627584) for args (ShapedArray(float64[100,101,2]), ShapedArray(float64[100,100]), ShapedArray(float64[], weak_type=True), ShapedArray(float64[100]), ShapedArray(float64[100]), ShapedArray(float64[100]), ShapedArray(float64[], weak_type=True)).\n"
     ]
    },
    {
     "name": "stdout",
     "output_type": "stream",
     "text": [
      "CPU times: user 17.1 s, sys: 2.27 s, total: 19.3 s\n",
      "Wall time: 14.9 s\n",
      "b=100, gpu mode, run=1\n",
      "CPU times: user 7.48 s, sys: 2.3 s, total: 9.77 s\n",
      "Wall time: 9.77 s\n"
     ]
    },
    {
     "data": {
      "application/javascript": [
       "\n",
       "            setTimeout(function() {\n",
       "                var nbb_cell_id = 12;\n",
       "                var nbb_unformatted_code = \"for batch_size in [1, 10, 100]:\\n\\n    def b(ary):\\n        return np.repeat(ary[None], batch_size, axis=0)\\n\\n    Neb = b(Ne)\\n    obsb = b(obs)\\n\\n    for plat in [\\\"cpu\\\", \\\"gpu\\\"]:\\n        f = jit(batch_estimate, backend=plat, static_argnums=5)\\n        for i in range(2):\\n            print(\\\"b=%d, %s mode, run=%i\\\" % (batch_size, plat, i))\\n            %time f(obsb, Neb, 0., prior, 0., 100)[0].block_until_ready()\";\n",
       "                var nbb_formatted_code = \"for batch_size in [1, 10, 100]:\\n\\n    def b(ary):\\n        return np.repeat(ary[None], batch_size, axis=0)\\n\\n    Neb = b(Ne)\\n    obsb = b(obs)\\n\\n    for plat in [\\\"cpu\\\", \\\"gpu\\\"]:\\n        f = jit(batch_estimate, backend=plat, static_argnums=5)\\n        for i in range(2):\\n            print(\\\"b=%d, %s mode, run=%i\\\" % (batch_size, plat, i))\\n            %time f(obsb, Neb, 0., prior, 0., 100)[0].block_until_ready()\";\n",
       "                var nbb_cells = Jupyter.notebook.get_cells();\n",
       "                for (var i = 0; i < nbb_cells.length; ++i) {\n",
       "                    if (nbb_cells[i].input_prompt_number == nbb_cell_id) {\n",
       "                        if (nbb_cells[i].get_text() == nbb_unformatted_code) {\n",
       "                             nbb_cells[i].set_text(nbb_formatted_code);\n",
       "                        }\n",
       "                        break;\n",
       "                    }\n",
       "                }\n",
       "            }, 500);\n",
       "            "
      ],
      "text/plain": [
       "<IPython.core.display.Javascript object>"
      ]
     },
     "metadata": {},
     "output_type": "display_data"
    }
   ],
   "source": [
    "for batch_size in [1, 10, 100]:\n",
    "\n",
    "    def b(ary):\n",
    "        return np.repeat(ary[None], batch_size, axis=0)\n",
    "\n",
    "    Neb = b(Ne)\n",
    "    obsb = b(obs)\n",
    "\n",
    "    for plat in [\"cpu\", \"gpu\"]:\n",
    "        f = jit(batch_estimate, backend=plat, static_argnums=5)\n",
    "        for i in range(2):\n",
    "            print(\"b=%d, %s mode, run=%i\" % (batch_size, plat, i))\n",
    "            %time f(obsb, Neb, 0., prior, 0., 100)[0].block_until_ready()"
   ]
  }
 ],
 "metadata": {
  "kernelspec": {
   "display_name": "Python 3",
   "language": "python",
   "name": "python3"
  },
  "language_info": {
   "codemirror_mode": {
    "name": "ipython",
    "version": 3
   },
   "file_extension": ".py",
   "mimetype": "text/x-python",
   "name": "python",
   "nbconvert_exporter": "python",
   "pygments_lexer": "ipython3",
   "version": "3.9.5"
  }
 },
 "nbformat": 4,
 "nbformat_minor": 4
}
