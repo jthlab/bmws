{
 "cells": [
  {
   "cell_type": "code",
   "execution_count": 1,
   "id": "parental-substitute",
   "metadata": {},
   "outputs": [],
   "source": [
    "from IPython.display import set_matplotlib_formats\n",
    "import matplotlib.pyplot as plt\n",
    "import numpy as np\n",
    "import pandas as pd\n",
    "import logging\n",
    "import jax\n",
    "from math import log, exp, sqrt\n",
    "from sim import sim_and_fit, sim_wf\n",
    "from common import Observation\n",
    "from plotting import plot_summary, compute_rmse, bias_variance"
   ]
  },
  {
   "cell_type": "code",
   "execution_count": 2,
   "id": "closed-purpose",
   "metadata": {},
   "outputs": [],
   "source": [
    "#Load sampling times\n",
    "samples = pd.read_csv(\"aadr_1240k_EUR_4500BP_1kg_meta.txt\", sep=\"\\t\")\n",
    "samples[\"GenBP\"] = samples.DateBP // 29  # assume 29 years per-generation\n",
    "counts = samples.GenBP.value_counts().sort_index()\n",
    "sizes, times = counts.values, np.array(counts.index)\n",
    "T = times[-1]\n",
    "mdl = {\"s\": [0.01] * T, \"h\": [0.5] * T, \"f0\": 0.1}"
   ]
  },
  {
   "cell_type": "code",
   "execution_count": 6,
   "id": "reliable-dispute",
   "metadata": {},
   "outputs": [
    {
     "name": "stdout",
     "output_type": "stream",
     "text": [
      "[ 9.88950031e-09  9.90151015e-09  9.83583729e-09 -9.81382905e-09\n",
      " -9.90588661e-09 -9.89504721e-09 -9.93527263e-09 -9.91225830e-09\n",
      " -9.90217585e-09 -9.86850499e-09 -9.25448142e-09 -9.76709789e-09\n",
      "  9.92730406e-09  9.95345043e-09  9.90522572e-09 -9.79166565e-09\n",
      " -9.86929795e-09 -9.92275964e-09 -9.88169756e-09 -9.88323333e-09\n",
      " -9.89164308e-09 -9.90059199e-09 -9.91415559e-09 -9.90679183e-09\n",
      " -9.90477366e-09 -9.89370823e-09 -9.88059617e-09 -9.88653331e-09\n",
      " -9.90748225e-09 -9.90407722e-09 -9.93166802e-09 -9.91977684e-09\n",
      " -9.89671887e-09 -9.89641082e-09 -9.90012482e-09 -9.88933106e-09\n",
      " -9.87130485e-09 -9.86068475e-09 -9.85376793e-09 -9.83239190e-09\n",
      " -9.86276216e-09 -9.86363845e-09 -9.87231752e-09 -9.87340535e-09\n",
      " -9.87459939e-09 -9.87937581e-09 -9.87287788e-09 -9.87892849e-09\n",
      " -9.91137840e-09 -9.92319523e-09 -9.92173737e-09 -9.95217663e-09\n",
      " -9.91304978e-09 -9.96482902e-09 -9.92803459e-09 -9.91916438e-09\n",
      " -9.94199734e-09 -9.89932861e-09 -9.89386015e-09 -9.90389543e-09\n",
      " -9.88933438e-09 -9.89945900e-09 -9.88868070e-09 -9.91392447e-09\n",
      " -9.92237257e-09 -9.90809999e-09 -9.90053953e-09 -9.88260781e-09\n",
      " -9.92869212e-09 -9.91673438e-09 -9.90956376e-09 -9.91224516e-09\n",
      " -9.89793113e-09 -9.87658614e-09 -9.88050990e-09 -9.87750986e-09\n",
      " -9.87459515e-09 -9.87302134e-09 -9.85516741e-09 -9.87014522e-09\n",
      " -9.84448664e-09 -9.84787498e-09 -9.86431071e-09 -9.77599405e-09\n",
      " -9.82587334e-09 -9.82186518e-09 -9.85493598e-09 -9.84483115e-09\n",
      " -9.84310053e-09 -9.84332296e-09 -9.83953139e-09 -9.85015515e-09\n",
      " -9.87768498e-09 -9.88257747e-09 -9.88163157e-09 -9.89252075e-09\n",
      " -9.85462972e-09 -9.85306041e-09 -9.83336726e-09 -9.85112537e-09\n",
      " -9.84576263e-09 -9.84420402e-09 -9.83317034e-09 -9.82964908e-09\n",
      " -9.85092806e-09 -9.84567336e-09 -9.84228147e-09 -9.86188991e-09\n",
      " -9.86043906e-09 -9.83660618e-09 -9.81823800e-09 -7.43977415e-09\n",
      " -9.82735080e-09 -9.85824448e-09 -9.83111085e-09 -9.90699780e-09\n",
      " -9.96227016e-09 -9.92987342e-09 -9.89522215e-09 -9.89235982e-09\n",
      " -9.90140908e-09 -9.86653881e-09 -9.80472531e-09]\n"
     ]
    }
   ],
   "source": [
    "#logging.basicConfig(level=logging.DEBUG)\n",
    "#Converges to zero\n",
    "res1 = sim_and_fit(mdl, seed=123456, lam=1e2, Ne=10000, k=times, n=sizes)\n",
    "print(res1['s'])"
   ]
  },
  {
   "cell_type": "code",
   "execution_count": null,
   "id": "adjustable-program",
   "metadata": {},
   "outputs": [],
   "source": []
  }
 ],
 "metadata": {
  "kernelspec": {
   "display_name": "Python 3",
   "language": "python",
   "name": "python3"
  },
  "language_info": {
   "codemirror_mode": {
    "name": "ipython",
    "version": 3
   },
   "file_extension": ".py",
   "mimetype": "text/x-python",
   "name": "python",
   "nbconvert_exporter": "python",
   "pygments_lexer": "ipython3",
   "version": "3.9.1"
  }
 },
 "nbformat": 4,
 "nbformat_minor": 5
}
