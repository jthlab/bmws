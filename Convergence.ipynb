{
 "cells": [
  {
   "cell_type": "code",
   "execution_count": 1,
   "id": "female-bibliography",
   "metadata": {},
   "outputs": [],
   "source": [
    "from IPython.display import set_matplotlib_formats\n",
    "import matplotlib.pyplot as plt\n",
    "import numpy as np\n",
    "import pandas as pd\n",
    "import logging\n",
    "import jax\n",
    "from math import log, exp, sqrt\n",
    "from sim import sim_and_fit, sim_wf\n",
    "from common import Observation\n",
    "from plotting import plot_summary, compute_rmse, bias_variance"
   ]
  },
  {
   "cell_type": "code",
   "execution_count": 2,
   "id": "sound-series",
   "metadata": {},
   "outputs": [],
   "source": [
    "#Load sampling times\n",
    "samples = pd.read_csv(\"aadr_1240k_EUR_4500BP_1kg_meta.txt\", sep=\"\\t\")\n",
    "samples[\"GenBP\"] = samples.DateBP // 29  # assume 29 years per-generation\n",
    "counts = samples.GenBP.value_counts().sort_index()\n",
    "sizes, times = counts.values, np.array(counts.index)\n",
    "T = times[-1]\n",
    "mdl = {\"s\": [0.01] * T, \"h\": [0.5] * T, \"f0\": 0.1}"
   ]
  },
  {
   "cell_type": "code",
   "execution_count": null,
   "id": "altered-church",
   "metadata": {},
   "outputs": [],
   "source": [
    "#logging.basicConfig(level=logging.DEBUG)\n",
    "#Runs ok\n",
    "res1 = sim_and_fit(mdl, seed=123456, lam=1e2, Ne=10000, k=times, n=sizes)\n",
    "print(res1['s'])"
   ]
  },
  {
   "cell_type": "code",
   "execution_count": null,
   "id": "superb-planning",
   "metadata": {},
   "outputs": [],
   "source": [
    "#But if we increase lambda it just converges to zero\n",
    "res2 = sim_and_fit(mdl, seed=12345, lam=1e3, Ne=10000, k=times, n=sizes)\n",
    "print(res2['s'])"
   ]
  },
  {
   "cell_type": "code",
   "execution_count": null,
   "id": "little-scott",
   "metadata": {},
   "outputs": [],
   "source": []
  }
 ],
 "metadata": {
  "kernelspec": {
   "display_name": "Python 3",
   "language": "python",
   "name": "python3"
  },
  "language_info": {
   "codemirror_mode": {
    "name": "ipython",
    "version": 3
   },
   "file_extension": ".py",
   "mimetype": "text/x-python",
   "name": "python",
   "nbconvert_exporter": "python",
   "pygments_lexer": "ipython3",
   "version": "3.9.1"
  }
 },
 "nbformat": 4,
 "nbformat_minor": 5
}
