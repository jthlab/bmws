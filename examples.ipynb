{
 "cells": [
  {
   "cell_type": "code",
   "execution_count": 1,
   "metadata": {},
   "outputs": [
    {
     "data": {
      "application/javascript": [
       "\n",
       "            setTimeout(function() {\n",
       "                var nbb_cell_id = 1;\n",
       "                var nbb_unformatted_code = \"%load_ext nb_black\\n%matplotlib inline\\nfrom IPython.display import set_matplotlib_formats\\nimport matplotlib.pyplot as plt\\nimport numpy as np\\nimport logging\\nimport jax\\n\\n\\nlogging.getLogger().setLevel(logging.INFO)\\nlogging.getLogger(\\\"absl\\\").setLevel(logging.DEBUG)\\n\\nset_matplotlib_formats(\\\"svg\\\")\\n\\n\\ndef plot_summary(ax, x, y, truth=None):\\n    q25, q50, q75 = np.quantile(y, [0.25, 0.5, 0.75], axis=0)\\n    assert len(set(x)) == 1\\n    x = x[0]\\n    ax.plot(x, q50, color=\\\"tab:blue\\\")\\n    ax.fill_between(x, q25, q75, alpha=0.2, color=\\\"tab:blue\\\")\\n    if truth is not None:\\n        x0 = np.arange(len(truth))\\n        ax.plot(x0, truth, \\\"--\\\", alpha=0.5, color=\\\"tab:grey\\\")\";\n",
       "                var nbb_formatted_code = \"%load_ext nb_black\\n%matplotlib inline\\nfrom IPython.display import set_matplotlib_formats\\nimport matplotlib.pyplot as plt\\nimport numpy as np\\nimport logging\\nimport jax\\n\\n\\nlogging.getLogger().setLevel(logging.INFO)\\nlogging.getLogger(\\\"absl\\\").setLevel(logging.DEBUG)\\n\\nset_matplotlib_formats(\\\"svg\\\")\\n\\n\\ndef plot_summary(ax, x, y, truth=None):\\n    q25, q50, q75 = np.quantile(y, [0.25, 0.5, 0.75], axis=0)\\n    assert len(set(x)) == 1\\n    x = x[0]\\n    ax.plot(x, q50, color=\\\"tab:blue\\\")\\n    ax.fill_between(x, q25, q75, alpha=0.2, color=\\\"tab:blue\\\")\\n    if truth is not None:\\n        x0 = np.arange(len(truth))\\n        ax.plot(x0, truth, \\\"--\\\", alpha=0.5, color=\\\"tab:grey\\\")\";\n",
       "                var nbb_cells = Jupyter.notebook.get_cells();\n",
       "                for (var i = 0; i < nbb_cells.length; ++i) {\n",
       "                    if (nbb_cells[i].input_prompt_number == nbb_cell_id) {\n",
       "                        if (nbb_cells[i].get_text() == nbb_unformatted_code) {\n",
       "                             nbb_cells[i].set_text(nbb_formatted_code);\n",
       "                        }\n",
       "                        break;\n",
       "                    }\n",
       "                }\n",
       "            }, 500);\n",
       "            "
      ],
      "text/plain": [
       "<IPython.core.display.Javascript object>"
      ]
     },
     "metadata": {},
     "output_type": "display_data"
    }
   ],
   "source": [
    "%load_ext nb_black\n",
    "%matplotlib inline\n",
    "from IPython.display import set_matplotlib_formats\n",
    "import matplotlib.pyplot as plt\n",
    "import numpy as np\n",
    "import logging\n",
    "import jax\n",
    "\n",
    "\n",
    "logging.getLogger().setLevel(logging.INFO)\n",
    "logging.getLogger(\"absl\").setLevel(logging.DEBUG)\n",
    "\n",
    "set_matplotlib_formats(\"svg\")\n",
    "\n",
    "\n",
    "def plot_summary(ax, x, y, truth=None):\n",
    "    q25, q50, q75 = np.quantile(y, [0.25, 0.5, 0.75], axis=0)\n",
    "    assert len(set(x)) == 1\n",
    "    x = x[0]\n",
    "    ax.plot(x, q50, color=\"tab:blue\")\n",
    "    ax.fill_between(x, q25, q75, alpha=0.2, color=\"tab:blue\")\n",
    "    if truth is not None:\n",
    "        x0 = np.arange(len(truth))\n",
    "        ax.plot(x0, truth, \"--\", alpha=0.5, color=\"tab:grey\")"
   ]
  },
  {
   "cell_type": "code",
   "execution_count": 2,
   "metadata": {},
   "outputs": [
    {
     "data": {
      "application/javascript": [
       "\n",
       "            setTimeout(function() {\n",
       "                var nbb_cell_id = 2;\n",
       "                var nbb_unformatted_code = \"from sim import sim_and_fit, sim_wf\\nfrom estimate import posterior_decoding\\nfrom common import Observation\";\n",
       "                var nbb_formatted_code = \"from sim import sim_and_fit, sim_wf\\nfrom estimate import posterior_decoding\\nfrom common import Observation\";\n",
       "                var nbb_cells = Jupyter.notebook.get_cells();\n",
       "                for (var i = 0; i < nbb_cells.length; ++i) {\n",
       "                    if (nbb_cells[i].input_prompt_number == nbb_cell_id) {\n",
       "                        if (nbb_cells[i].get_text() == nbb_unformatted_code) {\n",
       "                             nbb_cells[i].set_text(nbb_formatted_code);\n",
       "                        }\n",
       "                        break;\n",
       "                    }\n",
       "                }\n",
       "            }, 500);\n",
       "            "
      ],
      "text/plain": [
       "<IPython.core.display.Javascript object>"
      ]
     },
     "metadata": {},
     "output_type": "display_data"
    }
   ],
   "source": [
    "from sim import sim_and_fit, sim_wf\n",
    "from estimate import posterior_decoding\n",
    "from common import Observation"
   ]
  },
  {
   "cell_type": "markdown",
   "metadata": {},
   "source": [
    "## Various models"
   ]
  },
  {
   "cell_type": "code",
   "execution_count": 3,
   "metadata": {},
   "outputs": [
    {
     "data": {
      "application/javascript": [
       "\n",
       "            setTimeout(function() {\n",
       "                var nbb_cell_id = 3;\n",
       "                var nbb_unformatted_code = \"mdls = [\\n    {\\\"s\\\": [0.01] * 100, \\\"h\\\": [0.5] * 100, \\\"f0\\\": 0.1},\\n    {\\\"s\\\": [0.02] * 50 + [-0.02] * 50, \\\"h\\\": [0.5] * 100, \\\"f0\\\": 0.1},\\n    {\\\"s\\\": [0.02] * 100 + [0.0] * 50 + [-0.02] * 50, \\\"h\\\": [0.5] * 200, \\\"f0\\\": 0.1},\\n    {\\\"s\\\": (([0.02] * 40 + [-0.02] * 40) * 3)[:200], \\\"h\\\": [0.5] * 200, \\\"f0\\\": 0.5},\\n]\";\n",
       "                var nbb_formatted_code = \"mdls = [\\n    {\\\"s\\\": [0.01] * 100, \\\"h\\\": [0.5] * 100, \\\"f0\\\": 0.1},\\n    {\\\"s\\\": [0.02] * 50 + [-0.02] * 50, \\\"h\\\": [0.5] * 100, \\\"f0\\\": 0.1},\\n    {\\\"s\\\": [0.02] * 100 + [0.0] * 50 + [-0.02] * 50, \\\"h\\\": [0.5] * 200, \\\"f0\\\": 0.1},\\n    {\\\"s\\\": (([0.02] * 40 + [-0.02] * 40) * 3)[:200], \\\"h\\\": [0.5] * 200, \\\"f0\\\": 0.5},\\n]\";\n",
       "                var nbb_cells = Jupyter.notebook.get_cells();\n",
       "                for (var i = 0; i < nbb_cells.length; ++i) {\n",
       "                    if (nbb_cells[i].input_prompt_number == nbb_cell_id) {\n",
       "                        if (nbb_cells[i].get_text() == nbb_unformatted_code) {\n",
       "                             nbb_cells[i].set_text(nbb_formatted_code);\n",
       "                        }\n",
       "                        break;\n",
       "                    }\n",
       "                }\n",
       "            }, 500);\n",
       "            "
      ],
      "text/plain": [
       "<IPython.core.display.Javascript object>"
      ]
     },
     "metadata": {},
     "output_type": "display_data"
    }
   ],
   "source": [
    "mdls = [\n",
    "    {\"s\": [0.01] * 100, \"h\": [0.5] * 100, \"f0\": 0.1},\n",
    "    {\"s\": [0.02] * 50 + [-0.02] * 50, \"h\": [0.5] * 100, \"f0\": 0.1},\n",
    "    {\"s\": [0.02] * 100 + [0.0] * 50 + [-0.02] * 50, \"h\": [0.5] * 200, \"f0\": 0.1},\n",
    "    {\"s\": (([0.02] * 40 + [-0.02] * 40) * 3)[:200], \"h\": [0.5] * 200, \"f0\": 0.5},\n",
    "]"
   ]
  },
  {
   "cell_type": "markdown",
   "metadata": {},
   "source": [
    "## Estimation\n",
    "(Single example)"
   ]
  },
  {
   "cell_type": "code",
   "execution_count": null,
   "metadata": {},
   "outputs": [
    {
     "name": "stderr",
     "output_type": "stream",
     "text": [
      "DEBUG:absl:Initializing backend 'interpreter'\n",
      "DEBUG:absl:Initializing backend 'cpu'\n",
      "DEBUG:absl:Initializing backend 'gpu'\n",
      "DEBUG:absl:Error initializing backend 'gpu': Not found: Could not find registered platform with name: \"cuda\". Available platform names are: Host Interpreter\n",
      "DEBUG:absl:Initializing backend 'tpu'\n",
      "DEBUG:absl:Error initializing backend 'tpu': Invalid argument: TpuPlatform is not available.\n",
      "WARNING:absl:No GPU/TPU found, falling back to CPU. (Set TF_CPP_MIN_LOG_LEVEL=0 and rerun for more info.)\n",
      "/home/terhorst/Dropbox (University of Michigan)/Research/selection_hmm/code/common.py:351: RuntimeWarning: divide by zero encountered in log\n",
      "  init = {\"pow\": np.log(np.eye(log_A.shape[0])), \"x\": log_A, \"n\": n}\n",
      "DEBUG:absl:Compiling obj for args (ShapedArray(float32[10]), ShapedArray(float32[10]), ShapedArray(float32[11]), ShapedArray(int32[11,2])).\n"
     ]
    }
   ],
   "source": [
    "model = mdls[1]\n",
    "sim_and_fit(model, seed=1, lam_=1e2)"
   ]
  },
  {
   "cell_type": "code",
   "execution_count": null,
   "metadata": {},
   "outputs": [],
   "source": [
    "%%time\n",
    "import multiprocessing as mp\n",
    "from concurrent.futures import ThreadPoolExecutor\n",
    "# ctx = mp.get_context('spawn')\n",
    "# with ProcessPoolExecutor(4, mp_context=ctx) as p:\n",
    "with ThreadPoolExecutor(4) as p:\n",
    "    futs = [[p.submit(sim_and_fit, m, seed=i, lam_=1e2) for i in range(10)] for m in mdls]\n",
    "    res = [[f.result() for f in fs] for fs in futs]"
   ]
  },
  {
   "cell_type": "code",
   "execution_count": null,
   "metadata": {},
   "outputs": [],
   "source": [
    "fig, axs = plt.subplots(ncols=4, figsize=(16, 2))\n",
    "for r, ax, m in zip(res, axs, mdls):\n",
    "    x, y = zip(*[(rr[\"t\"][1:], -rr[\"s\"]) for rr in r])\n",
    "    plot_summary(ax, x, y, m[\"s\"])"
   ]
  },
  {
   "cell_type": "markdown",
   "metadata": {},
   "source": [
    "## Posterior decoding"
   ]
  },
  {
   "cell_type": "code",
   "execution_count": null,
   "metadata": {},
   "outputs": [],
   "source": [
    "Ne = int(1e3)\n",
    "rng = np.random.default_rng()\n",
    "mdl = mdls[1]\n",
    "af = sim_wf(Ne, mdl[\"s\"], mdl[\"h\"], mdl[\"f0\"], rng)\n",
    "n = 100\n",
    "k = 10\n",
    "obs = rng.binomial(n, af[::k])  # sample n haploids every d generations\n",
    "\n",
    "data = [\n",
    "    Observation(t=t, sample_size=n, num_derived=oo, Ne=Ne)\n",
    "    for t, oo in zip(range(0, len(af), k), obs)\n",
    "]\n",
    "\n",
    "fig, ax = plt.subplots()\n",
    "pd = posterior_decoding(\n",
    "    data,  # observed data\n",
    "    mdl[\"s\"][::k],\n",
    "    mdl[\"h\"][::k],  # parameters for HMM\n",
    "    64,  # number of discretizations\n",
    ")\n",
    "pd.draw(ax)\n",
    "ax.plot(np.arange(len(af)), af, label=\"Truth\")\n",
    "ax.legend()\n",
    "ax.set_xlabel(\"Generation\")\n",
    "ax.set_ylabel(\"MAF\")\n",
    "fig.tight_layout()"
   ]
  },
  {
   "cell_type": "markdown",
   "metadata": {},
   "source": [
    "## Large $N_e$"
   ]
  },
  {
   "cell_type": "code",
   "execution_count": null,
   "metadata": {},
   "outputs": [],
   "source": [
    "Ne = int(1e5)\n",
    "rng = np.random.default_rng()\n",
    "mdl = mdls[1]\n",
    "af = sim_wf(Ne, mdl[\"s\"], mdl[\"h\"], mdl[\"f0\"], rng)\n",
    "n = 100\n",
    "k = 10\n",
    "obs = rng.binomial(n, af[::k])  # sample n haploids every d generations\n",
    "\n",
    "data = [\n",
    "    Observation(t=t, sample_size=n, num_derived=oo, Ne=Ne)\n",
    "    for t, oo in zip(range(0, len(af), k), obs)\n",
    "]\n",
    "\n",
    "fig, ax = plt.subplots()\n",
    "pd = posterior_decoding(\n",
    "    data,  # observed data\n",
    "    mdl[\"s\"][::k],\n",
    "    mdl[\"h\"][::k],  # parameters for HMM\n",
    "    64,  # number of discretizations\n",
    ")\n",
    "pd.draw(ax)\n",
    "ax.plot(np.arange(len(af)), af, label=\"Truth\")\n",
    "ax.legend()\n",
    "ax.set_xlabel(\"Generation\")\n",
    "ax.set_ylabel(\"MAF\")\n",
    "fig.tight_layout()"
   ]
  },
  {
   "cell_type": "code",
   "execution_count": null,
   "metadata": {},
   "outputs": [],
   "source": [
    "## Debugging"
   ]
  },
  {
   "cell_type": "code",
   "execution_count": null,
   "metadata": {},
   "outputs": [],
   "source": [
    "from hmm import trans, vf_sh\n",
    "from common import Discretization\n",
    "\n",
    "mdl = mdls[0]\n",
    "s = mdl[\"s\"][0]\n",
    "h = mdl[\"h\"][0]\n",
    "Ne = Ne1 = Ne2 = 1e8\n",
    "disc1 = Discretization.factory(1000, 1000, Ne)\n",
    "disc2 = disc1\n",
    "T = trans(disc1, disc1, s, h)"
   ]
  },
  {
   "cell_type": "code",
   "execution_count": null,
   "metadata": {},
   "outputs": [],
   "source": [
    "plt.imshow(np.log(np.linalg.matrix_power(T, 10)))"
   ]
  },
  {
   "cell_type": "code",
   "execution_count": null,
   "metadata": {},
   "outputs": [],
   "source": [
    "low1, mid1, high1, Ne1 = disc1\n",
    "low2, mid2, high2, Ne2 = disc2"
   ]
  },
  {
   "cell_type": "code",
   "execution_count": null,
   "metadata": {},
   "outputs": [],
   "source": [
    "import jax\n",
    "import jax.numpy as jnp\n",
    "from common import poisson_cdf, binom_pmf\n",
    "\n",
    "mu_low = vf_sh(low1[1:, None] / Ne1, s, h)\n",
    "lam_low = mu_low * Ne1\n",
    "T_11 = jax.scipy.stats.poisson.pmf(low2[None, :], lam_low)\n",
    "# low -> medium\n",
    "T_12 = jnp.diff(poisson_cdf(mid2[None, :], lam_low * Ne1), axis=1)\n",
    "# low -> high  (improbable unless Ne is tiny)\n",
    "T_13 = jax.scipy.stats.poisson.pmf(high2[None, :], lam_low * Ne1)\n",
    "\n",
    "# Medium\n",
    "mu_mid = vf_sh((mid1[:-1, None] + mid1[1:, None]) / 2 / Ne1, s, h)\n",
    "sd_mid = jnp.sqrt(mu_mid * (1 - mu_mid) / Ne1)\n",
    "# Medium -> low\n",
    "T_21 = binom_pmf(low2[None, :], Ne2, mu_mid)\n",
    "# Medium -> medium\n",
    "T_22 = jnp.diff(jax.scipy.stats.norm.cdf(mid2[None, :] / Ne2, loc=mu_mid, scale=sd_mid))\n",
    "T_23 = binom_pmf(high2[None, :], Ne2, mu_mid)\n",
    "\n",
    "mu_high = vf_sh(high1[:-1, None] / Ne1, s, h)\n",
    "lam_high = Ne1 * (\n",
    "    1.0 - mu_high\n",
    ")  # model number of _ancestral_ alleles which is close to zero\n",
    "# high -> low\n",
    "T_31 = jax.scipy.stats.poisson.pmf(Ne2 - low2[None, :], lam_high)\n",
    "# high -> medium\n",
    "T_32 = -jnp.diff(poisson_cdf(Ne2 - mid2[None], lam_high), 1)[::-1]\n",
    "# high -> high  (improbable unless Ne is tiny)\n",
    "T_33 = jax.scipy.stats.poisson.pmf(Ne2 - high2[None, :], lam_high)\n",
    "\n",
    "T0 = jnp.block(\n",
    "        [\n",
    "            [T_11, T_12, T_13],\n",
    "            [T_21, T_22, T_23],\n",
    "            [T_31, T_32, T_33],\n",
    "        ]\n",
    "    )\n"
   ]
  },
  {
   "cell_type": "code",
   "execution_count": null,
   "metadata": {},
   "outputs": [],
   "source": [
    "N = T0.shape[0] + 2\n",
    "ret = np.concatenate([np.eye(1, N, 0), T0, np.eye(1, N, N - 1)])\n",
    "plt.imshow(np.log(np.linalg.matrix_power(ret, 10)))\n"
   ]
  },
  {
   "cell_type": "code",
   "execution_count": null,
   "metadata": {},
   "outputs": [],
   "source": [
    "plt.plot(disc1.p)"
   ]
  },
  {
   "cell_type": "code",
   "execution_count": null,
   "metadata": {},
   "outputs": [],
   "source": []
  }
 ],
 "metadata": {
  "kernelspec": {
   "display_name": "Python 3",
   "language": "python",
   "name": "python3"
  },
  "language_info": {
   "codemirror_mode": {
    "name": "ipython",
    "version": 3
   },
   "file_extension": ".py",
   "mimetype": "text/x-python",
   "name": "python",
   "nbconvert_exporter": "python",
   "pygments_lexer": "ipython3",
   "version": "3.9.1"
  }
 },
 "nbformat": 4,
 "nbformat_minor": 4
}
