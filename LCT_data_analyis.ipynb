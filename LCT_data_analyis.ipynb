{
 "cells": [
  {
   "cell_type": "code",
   "execution_count": null,
   "metadata": {},
   "outputs": [],
   "source": [
    "%load_ext nb_black\n",
    "import IPython.display\n",
    "\n",
    "IPython.display.set_matplotlib_formats(\"svg\")"
   ]
  },
  {
   "cell_type": "code",
   "execution_count": null,
   "metadata": {},
   "outputs": [],
   "source": [
    "import estimate, sim\n",
    "import matplotlib.pyplot as plt\n",
    "import numpy as np\n",
    "from betamix import sample_paths, BetaMixture\n",
    "from scipy.stats import beta\n",
    "from math import exp, log"
   ]
  },
  {
   "cell_type": "code",
   "execution_count": null,
   "metadata": {},
   "outputs": [],
   "source": [
    "def load_data(file):\n",
    "    oo = np.loadtxt(file)\n",
    "    return [oo[:, 1], oo[:, 0]]\n",
    "\n",
    "\n",
    "genes = [\"LCT\", \"SLC45A2\", \"DHCR7\", \"HERC2\"]\n",
    "\n",
    "obs = {x: np.loadtxt(\"data/Britain_\" + x + \".txt\").astype(int)[::-1] for x in genes}"
   ]
  },
  {
   "cell_type": "code",
   "execution_count": null,
   "metadata": {
    "scrolled": false
   },
   "outputs": [],
   "source": [
    "%%time\n",
    "fig, axs = plt.subplots(ncols=2, figsize=(8, 3), sharey=False)\n",
    "#fig2, axs2 = plt.subplots(ncols=2, figsize=(8, 3), sharey=False)\n",
    "\n",
    "log10_lam=4.5\n",
    "\n",
    "\n",
    "for gen in obs:\n",
    "    data = obs[gen]\n",
    "    L = len(data)\n",
    "    Ne = np.full(L - 1, 1e4)\n",
    "    gr = exp(log(100) / (L))\n",
    "    Ne=np.array([round(10000 * gr ** (10 * int(x / 10))) for x in range(L - 1)])\n",
    "    s_hat, prior = estimate.estimate_em(data, Ne, lam=10 ** log10_lam, em_iterations=3)\n",
    "    paths, _ = sample_paths(s_hat, Ne, data, 1000, prior=prior)\n",
    "    axs[0].plot(s_hat, label=gen)\n",
    "    axs[1].plot(np.mean(paths, axis=0), label=gen)\n",
    "   \n",
    "axs[0].legend(prop={'size': 8})\n",
    "axs[0].invert_xaxis()\n",
    "axs[1].invert_xaxis()\n",
    "axs[0].set_title(\"A: Selection coefficient\", loc='left')\n",
    "axs[1].set_title(\"B: Selected allele frequency\", loc='left')\n",
    "\n",
    "#ax.title.set_text(f\"Lambda=$10^{log10_lam}$\")\n",
    "#axs[0].plot(ax.get_xlim(), [0., 0.], '--', color=\"black\")\n",
    "\n",
    "axs[0].set_xlabel(\"Generations before present\")\n",
    "axs[1].set_xlabel(\"Generations before present\")\n",
    "\n"
   ]
  }
 ],
 "metadata": {
  "kernelspec": {
   "display_name": "Python 3",
   "language": "python",
   "name": "python3"
  },
  "language_info": {
   "codemirror_mode": {
    "name": "ipython",
    "version": 3
   },
   "file_extension": ".py",
   "mimetype": "text/x-python",
   "name": "python",
   "nbconvert_exporter": "python",
   "pygments_lexer": "ipython3",
   "version": "3.9.1"
  }
 },
 "nbformat": 4,
 "nbformat_minor": 2
}
