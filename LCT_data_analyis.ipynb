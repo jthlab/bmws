{
 "cells": [
  {
   "cell_type": "code",
   "execution_count": 1,
   "metadata": {},
   "outputs": [],
   "source": [
    "import infer\n",
    "import matplotlib.pyplot as plt\n",
    "import numpy as np\n",
    "\n",
    "def plot_single(ax, fits, truth=None):\n",
    "    for fit in fits:\n",
    "        x=np.arange(len(fit))\n",
    "        ax.plot(x, fit, color=\"tab:blue\")\n",
    "        ax.plot(x, truth, \"--\", alpha=0.5, color=\"tab:grey\")\n",
    "\n",
    "mdl={\"s\": [0.02] * 50 + [-0.02] * 50, \"h\": [0.5] * 100, \"f0\": 0.1}\n",
    "obs,size=infer.sim_full(mdl, 12345)\n",
    "\n",
    "def load_data(file):\n",
    "    oo=np.loadtxt(file)\n",
    "    return [oo[:,1], oo[:,0]]\n",
    "\n",
    "pops=[\"Britain\", \"Central\", \"Iberia\", \"Italy\"]\n",
    "obs=[load_data(\"data/\"+x+\"_LCT.txt\") for x in pops]"
   ]
  },
  {
   "cell_type": "code",
   "execution_count": null,
   "metadata": {},
   "outputs": [],
   "source": [
    "fig, axs = plt.subplots(ncols=3, figsize=(12, 3))\n",
    "lmbs=[1e3, 1e4, 1e5]\n",
    "\n",
    "for j,lmb in enumerate(lmbs):\n",
    "    results=[infer.fit_full(x[0], x[1], lmb, Ne=2000) for x in obs]\n",
    "    for i,res in enumerate(results):\n",
    "        x=np.arange(len(res[\"x\"]))\n",
    "        axs[j].plot(x, res[\"x\"], label=pops[i])\n",
    "    axs[j].legend()\n",
    "    axs[j].title.set_text(\"Lambda=\"+str(lmb))"
   ]
  },
  {
   "cell_type": "code",
   "execution_count": null,
   "metadata": {},
   "outputs": [],
   "source": []
  }
 ],
 "metadata": {
  "kernelspec": {
   "display_name": "Python 3",
   "language": "python",
   "name": "python3"
  },
  "language_info": {
   "codemirror_mode": {
    "name": "ipython",
    "version": 3
   },
   "file_extension": ".py",
   "mimetype": "text/x-python",
   "name": "python",
   "nbconvert_exporter": "python",
   "pygments_lexer": "ipython3",
   "version": "3.7.3"
  }
 },
 "nbformat": 4,
 "nbformat_minor": 2
}
